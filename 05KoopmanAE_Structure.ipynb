{
 "cells": [
  {
   "cell_type": "markdown",
   "metadata": {},
   "source": [
    "# 选取自编码器结构\n"
   ]
  },
  {
   "cell_type": "markdown",
   "metadata": {},
   "source": [
    "## 1. 对比各种结构的自编码器效果\n"
   ]
  },
  {
   "cell_type": "markdown",
   "metadata": {},
   "source": [
    "本例中，Autoencoder的encoder是2层的MLP。第1层的单元数取3～8，第2层的单元数比第一层单元数少，且不大于5。decoder与encoder对称。尝试几种网络结构，以训练若干次后的测试误差为指标，评价各种结构的优劣。\n"
   ]
  },
  {
   "cell_type": "markdown",
   "metadata": {},
   "source": [
    "划分训练集和测试集\n"
   ]
  },
  {
   "cell_type": "code",
   "execution_count": null,
   "metadata": {},
   "outputs": [],
   "source": [
    "from Network import *\n",
    "import pandas as pd\n",
    "import torch\n",
    "\n",
    "# 选取需要的列\n",
    "COLUMN_INDEX = [\n",
    "    \"Index\",\n",
    "    \"Temp (°C)\",\n",
    "    \"Dew Point Temp (°C)\",\n",
    "    \"Rel Hum (%)\",\n",
    "    \"Wind Spd (km/h)\",\n",
    "    \"Stn Press (kPa)\",\n",
    "]\n",
    "data = pd.read_csv(\"Data/DataSet.csv\")[COLUMN_INDEX].to_numpy()\n",
    "data_tensor = torch.tensor(data, dtype=torch.float32)\n",
    "\n",
    "\n",
    "# 设置随机种子以确保结果可重复\n",
    "torch.manual_seed(42)\n",
    "train_loader,test_loader,train_index,test_index=TimeSeriesDataSplit2Loaders(\n",
    "    data_tensor,\n",
    "    BATCH_SIZE=16,\n",
    "    RATIO=0.5,SHUFFLE=True)\n"
   ]
  },
  {
   "cell_type": "markdown",
   "metadata": {},
   "source": [
    "各训练80个epoch，对比训练结果\n"
   ]
  },
  {
   "cell_type": "code",
   "execution_count": null,
   "metadata": {},
   "outputs": [],
   "source": [
    "import itertools\n",
    "COLUMN_INDEX_COMPARISON = [\"LAYER_1\", \"LAYER_2\", \"LOSS_TRAIN\", \"LOSS_TEST\"]\n",
    "df = pd.DataFrame(data=None, columns=COLUMN_INDEX_COMPARISON)\n",
    "\n",
    "for Layer_1_num, Layer_2_num in itertools.product(range(2, 17), range(2, 17)):\n",
    "    model = MyAutoencoder(\n",
    "        input_size=5,\n",
    "        hidden_size_1=Layer_1_num,\n",
    "        hidden_size_2=Layer_2_num,\n",
    "        dropout_prob=0,\n",
    "    )\n",
    "    INIT_WEIGHTS_ZERO(model)\n",
    "    optimizer = torch.optim.Adam(model.parameters(), lr=0.01, weight_decay=1e-5)\n",
    "    LOSS_HISTORY_TRAIN, LOSS_HISTORY_TEST = TRAIN_NO_PROGRESS_BAR_KOOPMAN(\n",
    "        model,\n",
    "        NUM_EPOCHS=1,\n",
    "        OPTIMIZER=optimizer,\n",
    "        TRAIN_LOADER=train_loader,\n",
    "        TEST_LOADER=test_loader,\n",
    "        TORCH_LOSS_TYPE=nn.MSELoss(),\n",
    "        LOSS_WEIGHT=[0.5,0.5],\n",
    "        DEVICE=0,\n",
    "    )\n",
    "    RESULT = [\n",
    "        Layer_1_num,\n",
    "        Layer_2_num,\n",
    "        LOSS_HISTORY_TRAIN[-1].cpu().numpy(),\n",
    "        LOSS_HISTORY_TEST[-1].cpu().numpy(),\n",
    "    ]\n",
    "    df = df.append(\n",
    "        pd.Series(data=RESULT, index=COLUMN_INDEX_COMPARISON), ignore_index=True\n",
    "    )"
   ]
  },
  {
   "cell_type": "markdown",
   "metadata": {},
   "source": [
    "根据测试误差排序，并保存\n"
   ]
  },
  {
   "cell_type": "code",
   "execution_count": null,
   "metadata": {},
   "outputs": [],
   "source": [
    "# 按照测试集上的误差，从小到达排列\n",
    "df = df.sort_values(by=\"LOSS_TEST\", axis=0, ascending=True)\n",
    "df.to_csv(\"Networks/AE_Comparison.csv\", index=False)\n",
    "df"
   ]
  },
  {
   "cell_type": "markdown",
   "metadata": {},
   "source": [
    "可视化\n"
   ]
  },
  {
   "cell_type": "code",
   "execution_count": null,
   "metadata": {},
   "outputs": [],
   "source": [
    "from Visualization import *\n",
    "LossStruct = pd.read_csv(\"Networks/AE_Comparison.csv\").to_numpy()\n",
    "\n",
    "TestLossHeatMap(\n",
    "    DATA=LossStruct, TITLE=\"测试误差与AE结构关系\", LABELS=[\"隐藏层1单元数\", \"隐藏层2单元数\"], SAVE_FIG=True\n",
    ")"
   ]
  },
  {
   "cell_type": "markdown",
   "metadata": {},
   "source": [
    "## 2. 训练自编码器\n"
   ]
  },
  {
   "cell_type": "markdown",
   "metadata": {},
   "source": [
    "根据对比结果，选择网络结构\n"
   ]
  },
  {
   "cell_type": "code",
   "execution_count": null,
   "metadata": {},
   "outputs": [],
   "source": [
    "# 选取需要的列\n",
    "COLUMN_INDEX_AE = [\"LAYER_1\", \"LAYER_2\"]\n",
    "layer_1, layer_2 = pd.read_csv(\"Networks/AE_Comparison.csv\").loc[0, COLUMN_INDEX_AE]\n",
    "layer_1 = int(layer_1)\n",
    "layer_2 = int(layer_2)\n",
    "\n",
    "# # 以上仅作展示用\n",
    "# layer_1 = 6\n",
    "# layer_2 = 3\n",
    "print(\"第1层隐藏层单元数\", layer_1, \"\\n第2层隐藏层单元数\", layer_2)"
   ]
  },
  {
   "cell_type": "markdown",
   "metadata": {},
   "source": [
    "训练网络\n"
   ]
  },
  {
   "cell_type": "code",
   "execution_count": null,
   "metadata": {},
   "outputs": [],
   "source": [
    "MyAE = MyAutoencoder(\n",
    "    input_size=5, hidden_size_1=layer_1, hidden_size_2=layer_2, dropout_prob=0.25\n",
    ")\n",
    "INIT_WEIGHTS_XAVIER(MyAE)\n",
    "optimizer = torch.optim.Adam(MyAE.parameters(), lr=0.005, weight_decay=1e-5)\n",
    "LOSS_HISTORY_TRAIN, LOSS_HISTORY_TEST = TRAIN_WITH_PROGRESS_BAR_KOOPMAN(\n",
    "    MyAE,\n",
    "    NUM_EPOCHS=150,\n",
    "    OPTIMIZER=optimizer,\n",
    "    TRAIN_LOADER=train_loader,\n",
    "    TEST_LOADER=test_loader,\n",
    "    TORCH_LOSS_TYPE=nn.MSELoss(),\n",
    "    LOSS_WEIGHT=[0.5,0.5],\n",
    "    DEVICE=0,\n",
    "    GRAD_MAX=2,\n",
    ")"
   ]
  },
  {
   "cell_type": "markdown",
   "metadata": {},
   "source": [
    "可视化\n"
   ]
  },
  {
   "cell_type": "code",
   "execution_count": null,
   "metadata": {},
   "outputs": [],
   "source": [
    "from Visualization import *\n",
    "\n",
    "LossEpochPlot(\n",
    "    LOSS_HISTORY=(LOSS_HISTORY_TRAIN, LOSS_HISTORY_TEST),\n",
    "    LEGEND=[\"训练集\", \"测试集\"],\n",
    "    TITLE=\"Loss-Epoch图线\",\n",
    "    SAVE_FIG=True,\n",
    ")"
   ]
  },
  {
   "cell_type": "markdown",
   "metadata": {},
   "source": [
    "## 3. 保存网络\n"
   ]
  },
  {
   "cell_type": "code",
   "execution_count": null,
   "metadata": {},
   "outputs": [],
   "source": [
    "torch.save(MyAE.encoder.state_dict(), \"Networks/KoopmanEncoder.pth\")\n",
    "torch.save(MyAE.decoder.state_dict(), \"Networks/KoopmanDecoder.pth\")"
   ]
  },
  {
   "cell_type": "markdown",
   "metadata": {},
   "source": [
    "调用保存的网络示例\n"
   ]
  },
  {
   "cell_type": "code",
   "execution_count": null,
   "metadata": {},
   "outputs": [],
   "source": [
    "net_temp = MyAutoencoder(5, layer_1, layer_2, dropout_prob=0).encoder\n",
    "net_temp.load_state_dict(torch.load(\"Networks/KoopmanEncoder.pth\"))\n",
    "\n",
    "net_temp.eval()\n",
    "with torch.no_grad():\n",
    "    print(net_temp(torch.randn(1, 5)))"
   ]
  }
 ],
 "metadata": {
  "kernelspec": {
   "display_name": "D2L",
   "language": "python",
   "name": "python3"
  },
  "language_info": {
   "codemirror_mode": {
    "name": "ipython",
    "version": 3
   },
   "file_extension": ".py",
   "mimetype": "text/x-python",
   "name": "python",
   "nbconvert_exporter": "python",
   "pygments_lexer": "ipython3",
   "version": "3.7.5"
  }
 },
 "nbformat": 4,
 "nbformat_minor": 2
}
