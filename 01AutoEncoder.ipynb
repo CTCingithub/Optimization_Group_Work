{
 "cells": [
  {
   "cell_type": "markdown",
   "metadata": {},
   "source": [
    "# 使用自编码器提取特征\n"
   ]
  },
  {
   "cell_type": "markdown",
   "metadata": {},
   "source": [
    "## 1. 读取筛选后的数据\n"
   ]
  },
  {
   "cell_type": "code",
   "execution_count": 1,
   "metadata": {},
   "outputs": [
    {
     "data": {
      "text/plain": [
       "tensor([[  1.5000,  -3.6000,  69.0000,  39.0000,  99.8100],\n",
       "        [  1.5000,  -3.9000,  67.0000,  35.0000, 100.0100],\n",
       "        [  1.0000,  -4.3000,  68.0000,  32.0000, 100.1400],\n",
       "        ...,\n",
       "        [  4.0000,   3.6000,  97.0000,  32.0000,  99.1500],\n",
       "        [  4.0000,   3.6000,  97.0000,  30.0000,  98.8000],\n",
       "        [  4.0000,   3.7000,  98.0000,  15.0000,  98.5700]])"
      ]
     },
     "execution_count": 1,
     "metadata": {},
     "output_type": "execute_result"
    }
   ],
   "source": [
    "import pandas as pd\n",
    "import torch\n",
    "\n",
    "# 选取需要的列\n",
    "COLUMN_INDEX = [\n",
    "    \"Temp (°C)\",\n",
    "    \"Dew Point Temp (°C)\",\n",
    "    \"Rel Hum (%)\",\n",
    "    \"Wind Spd (km/h)\",\n",
    "    \"Stn Press (kPa)\",\n",
    "]\n",
    "\n",
    "data = pd.read_csv(\"Data/DataSet.csv\")[COLUMN_INDEX].to_numpy()\n",
    "\n",
    "data_tensor = torch.tensor(data, dtype=torch.float32)\n",
    "data_tensor"
   ]
  },
  {
   "cell_type": "markdown",
   "metadata": {},
   "source": [
    "## 2. 模型训练\n"
   ]
  },
  {
   "cell_type": "markdown",
   "metadata": {},
   "source": [
    "划分测试集和训练集\n"
   ]
  },
  {
   "cell_type": "code",
   "execution_count": 2,
   "metadata": {},
   "outputs": [],
   "source": [
    "from Network import *\n",
    "\n",
    "# 设置随机种子以确保结果可重复\n",
    "torch.manual_seed(42)\n",
    "train_loader,test_loader=Split2Loaders(data_tensor,data_tensor,BATCHSIZE=32,RATIO=0.7,SHUFFLE=True)\n"
   ]
  },
  {
   "cell_type": "markdown",
   "metadata": {},
   "source": [
    "定义Auto Encoder结构\n"
   ]
  },
  {
   "cell_type": "code",
   "execution_count": 3,
   "metadata": {},
   "outputs": [
    {
     "data": {
      "text/plain": [
       "==========================================================================================\n",
       "Layer (type:depth-idx)                   Output Shape              Param #\n",
       "==========================================================================================\n",
       "MyAutoencoder                            [1, 5]                    --\n",
       "├─Sequential: 1-1                        [1, 3]                    --\n",
       "│    └─Linear: 2-1                       [1, 6]                    36\n",
       "│    └─ReLU: 2-2                         [1, 6]                    --\n",
       "│    └─BatchNorm1d: 2-3                  [1, 6]                    12\n",
       "│    └─Dropout: 2-4                      [1, 6]                    --\n",
       "│    └─Linear: 2-5                       [1, 3]                    21\n",
       "│    └─ReLU: 2-6                         [1, 3]                    --\n",
       "│    └─BatchNorm1d: 2-7                  [1, 3]                    6\n",
       "│    └─Dropout: 2-8                      [1, 3]                    --\n",
       "├─Sequential: 1-2                        [1, 5]                    --\n",
       "│    └─Linear: 2-9                       [1, 6]                    24\n",
       "│    └─ReLU: 2-10                        [1, 6]                    --\n",
       "│    └─BatchNorm1d: 2-11                 [1, 6]                    12\n",
       "│    └─Dropout: 2-12                     [1, 6]                    --\n",
       "│    └─Linear: 2-13                      [1, 5]                    35\n",
       "==========================================================================================\n",
       "Total params: 146\n",
       "Trainable params: 146\n",
       "Non-trainable params: 0\n",
       "Total mult-adds (M): 0.00\n",
       "==========================================================================================\n",
       "Input size (MB): 0.00\n",
       "Forward/backward pass size (MB): 0.00\n",
       "Params size (MB): 0.00\n",
       "Estimated Total Size (MB): 0.00\n",
       "=========================================================================================="
      ]
     },
     "execution_count": 3,
     "metadata": {},
     "output_type": "execute_result"
    }
   ],
   "source": [
    "from torchinfo import summary\n",
    "\n",
    "MyAE = MyAutoencoder(input_size=5, hidden_size_1=6, hidden_size_2=3, dropout_prob=0.05)\n",
    "INIT_WEIGHTS_XAVIER(MyAE)\n",
    "summary(MyAE, (1, 5))\n"
   ]
  },
  {
   "cell_type": "markdown",
   "metadata": {},
   "source": [
    "训练模型\n"
   ]
  },
  {
   "cell_type": "code",
   "execution_count": 4,
   "metadata": {},
   "outputs": [
    {
     "name": "stdout",
     "output_type": "stream",
     "text": [
      "PyTorch Version: 1.11.0\n",
      "Training on cuda:0\n",
      "====================================Start training====================================\n"
     ]
    },
    {
     "name": "stderr",
     "output_type": "stream",
     "text": [
      "Epoch 1/5: 100%|██████████| 384/384 [00:02<00:00, 169.90batch/s, loss=80.7]   \n",
      "Epoch 2/5: 100%|██████████| 384/384 [00:02<00:00, 177.00batch/s, loss=88]  \n",
      "Epoch 3/5: 100%|██████████| 384/384 [00:02<00:00, 162.32batch/s, loss=132] \n",
      "Epoch 4/5: 100%|██████████| 384/384 [00:02<00:00, 162.02batch/s, loss=77.9]\n",
      "Epoch 5/5: 100%|██████████| 384/384 [00:02<00:00, 172.81batch/s, loss=50.7]\n"
     ]
    },
    {
     "name": "stdout",
     "output_type": "stream",
     "text": [
      "====================================Finish training====================================\n",
      "\n"
     ]
    },
    {
     "data": {
      "text/plain": [
       "([tensor(1565.8383),\n",
       "  tensor(74.5846),\n",
       "  tensor(68.9818),\n",
       "  tensor(67.5359),\n",
       "  tensor(67.9376)],\n",
       " [tensor(60.5900),\n",
       "  tensor(23.0639),\n",
       "  tensor(22.4137),\n",
       "  tensor(23.0944),\n",
       "  tensor(23.4349)])"
      ]
     },
     "execution_count": 4,
     "metadata": {},
     "output_type": "execute_result"
    }
   ],
   "source": [
    "optimizer = torch.optim.Adam(MyAE.parameters(), lr=0.01, weight_decay=1E-5)\n",
    "train(\n",
    "    MyAE,\n",
    "    NUM_EPOCHS=5,\n",
    "    OPTIMIZER=optimizer,\n",
    "    TRAIN_LOADER=train_loader,\n",
    "    TEST_LOADER=test_loader,\n",
    "    LOSS_TYPE=nn.MSELoss(),\n",
    "    DEVICE=0,\n",
    ")\n"
   ]
  }
 ],
 "metadata": {
  "kernelspec": {
   "display_name": "d2l",
   "language": "python",
   "name": "python3"
  },
  "language_info": {
   "codemirror_mode": {
    "name": "ipython",
    "version": 3
   },
   "file_extension": ".py",
   "mimetype": "text/x-python",
   "name": "python",
   "nbconvert_exporter": "python",
   "pygments_lexer": "ipython3",
   "version": "3.7.5"
  }
 },
 "nbformat": 4,
 "nbformat_minor": 2
}
