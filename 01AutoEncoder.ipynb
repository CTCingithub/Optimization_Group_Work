{
 "cells": [
  {
   "cell_type": "markdown",
   "metadata": {},
   "source": [
    "# 使用自编码器提取特征\n"
   ]
  },
  {
   "cell_type": "markdown",
   "metadata": {},
   "source": [
    "## 1. 读取筛选后的数据\n"
   ]
  },
  {
   "cell_type": "code",
   "execution_count": 1,
   "metadata": {},
   "outputs": [
    {
     "data": {
      "text/plain": [
       "tensor([[  1.5000,  -3.6000,  69.0000,  39.0000,  99.8100],\n",
       "        [  1.5000,  -3.9000,  67.0000,  35.0000, 100.0100],\n",
       "        [  1.0000,  -4.3000,  68.0000,  32.0000, 100.1400],\n",
       "        ...,\n",
       "        [  4.0000,   3.6000,  97.0000,  32.0000,  99.1500],\n",
       "        [  4.0000,   3.6000,  97.0000,  30.0000,  98.8000],\n",
       "        [  4.0000,   3.7000,  98.0000,  15.0000,  98.5700]])"
      ]
     },
     "execution_count": 1,
     "metadata": {},
     "output_type": "execute_result"
    }
   ],
   "source": [
    "import pandas as pd\n",
    "import torch\n",
    "\n",
    "# 选取需要的列\n",
    "COLUMN_INDEX = [\n",
    "    \"Temp (°C)\",\n",
    "    \"Dew Point Temp (°C)\",\n",
    "    \"Rel Hum (%)\",\n",
    "    \"Wind Spd (km/h)\",\n",
    "    \"Stn Press (kPa)\",\n",
    "]\n",
    "\n",
    "data = pd.read_csv(\"Data/DataSet.csv\")[COLUMN_INDEX].to_numpy()\n",
    "\n",
    "data_tensor = torch.tensor(data, dtype=torch.float32)\n",
    "data_tensor"
   ]
  },
  {
   "cell_type": "markdown",
   "metadata": {},
   "source": [
    "## 2. 模型训练\n"
   ]
  },
  {
   "cell_type": "markdown",
   "metadata": {},
   "source": [
    "划分测试集和训练集\n"
   ]
  },
  {
   "cell_type": "code",
   "execution_count": 2,
   "metadata": {},
   "outputs": [],
   "source": [
    "from torch.utils.data import TensorDataset,DataLoader, random_split\n",
    "\n",
    "train_size = int(0.8 * data_tensor.shape[0])\n",
    "test_size = data_tensor.shape[0] - train_size\n",
    "train_dataset, test_dataset = random_split(\n",
    "    TensorDataset(data_tensor,data_tensor), [train_size, test_size]\n",
    ")\n",
    "\n",
    "BATCHSIZE=32\n",
    "\n",
    "train_loader = DataLoader(train_dataset, batch_size=32, shuffle=True)\n",
    "test_loader = DataLoader(test_dataset, batch_size=32, shuffle=False)\n"
   ]
  },
  {
   "cell_type": "markdown",
   "metadata": {},
   "source": [
    "定义Auto Encoder结构\n"
   ]
  },
  {
   "cell_type": "code",
   "execution_count": 7,
   "metadata": {},
   "outputs": [
    {
     "data": {
      "text/plain": [
       "==========================================================================================\n",
       "Layer (type:depth-idx)                   Output Shape              Param #\n",
       "==========================================================================================\n",
       "MyAutoencoder                            [1, 5]                    --\n",
       "├─Sequential: 1-1                        [1, 4]                    --\n",
       "│    └─Linear: 2-1                       [1, 8]                    48\n",
       "│    └─ReLU: 2-2                         [1, 8]                    --\n",
       "│    └─Dropout: 2-3                      [1, 8]                    --\n",
       "│    └─Linear: 2-4                       [1, 4]                    36\n",
       "│    └─ReLU: 2-5                         [1, 4]                    --\n",
       "│    └─Dropout: 2-6                      [1, 4]                    --\n",
       "├─Sequential: 1-2                        [1, 5]                    --\n",
       "│    └─Linear: 2-7                       [1, 8]                    40\n",
       "│    └─ReLU: 2-8                         [1, 8]                    --\n",
       "│    └─Dropout: 2-9                      [1, 8]                    --\n",
       "│    └─Linear: 2-10                      [1, 5]                    45\n",
       "==========================================================================================\n",
       "Total params: 169\n",
       "Trainable params: 169\n",
       "Non-trainable params: 0\n",
       "Total mult-adds (M): 0.00\n",
       "==========================================================================================\n",
       "Input size (MB): 0.00\n",
       "Forward/backward pass size (MB): 0.00\n",
       "Params size (MB): 0.00\n",
       "Estimated Total Size (MB): 0.00\n",
       "=========================================================================================="
      ]
     },
     "execution_count": 7,
     "metadata": {},
     "output_type": "execute_result"
    }
   ],
   "source": [
    "from Network import *\n",
    "from torchinfo import summary\n",
    "\n",
    "MyAE = MyAutoencoder(input_size=5, hidden_size_1=8, hidden_size_2=4, dropout_prob=0.2)\n",
    "summary(MyAE, (1, 5))"
   ]
  },
  {
   "cell_type": "markdown",
   "metadata": {},
   "source": [
    "定义训练函数\n"
   ]
  },
  {
   "cell_type": "code",
   "execution_count": 8,
   "metadata": {},
   "outputs": [],
   "source": [
    "from tqdm import tqdm\n",
    "from torch import nn\n",
    "from Network import *\n",
    "\n",
    "def trainer(MODEL,NUM_EPOCHS,OPTIMIZER,TRAIN_LOADER,TEST_LOADER=None,LOSS_TYPE=nn.MSELoss(),DEVICE=0):\n",
    "    print(\"PyTorch Version:\",torch.__version__)\n",
    "    device=GET_DEVICE(DEVICE)\n",
    "    print(\"Training on\",device)\n",
    "    print(\n",
    "        \"====================================Start training====================================\"\n",
    "    )\n",
    "    MODEL.to(device)\n",
    "    for epoch in range(NUM_EPOCHS):\n",
    "        with tqdm(\n",
    "            train_loader, desc=f\"Epoch {epoch+1}/{NUM_EPOCHS}\", unit=\"batch\"\n",
    "        ) as t:\n",
    "            for x, y in t:\n",
    "                # 前向传播\n",
    "                x, y = x.to(device), y.to(device)\n",
    "                output = MODEL(x)\n",
    "                loss = LOSS_TYPE(output, y)\n",
    "\n",
    "                # 反向传播\n",
    "                OPTIMIZER.zero_grad()\n",
    "                loss.backward()\n",
    "                OPTIMIZER.step()\n",
    "                t.set_postfix(loss=loss.item())\n",
    "    print(\n",
    "        \"====================================Finish training====================================\\n\"\n",
    "    )\n"
   ]
  },
  {
   "cell_type": "markdown",
   "metadata": {},
   "source": [
    "训练模型\n"
   ]
  },
  {
   "cell_type": "code",
   "execution_count": 9,
   "metadata": {},
   "outputs": [
    {
     "name": "stdout",
     "output_type": "stream",
     "text": [
      "PyTorch Version: 1.11.0\n",
      "Training on cuda:0\n",
      "====================================Start training====================================\n"
     ]
    },
    {
     "name": "stderr",
     "output_type": "stream",
     "text": [
      "Epoch 1/15: 100%|██████████| 438/438 [00:02<00:00, 167.78batch/s, loss=nan]   \n",
      "Epoch 2/15: 100%|██████████| 438/438 [00:02<00:00, 201.80batch/s, loss=nan]\n",
      "Epoch 3/15: 100%|██████████| 438/438 [00:02<00:00, 204.64batch/s, loss=nan]\n",
      "Epoch 4/15: 100%|██████████| 438/438 [00:01<00:00, 221.08batch/s, loss=nan]\n",
      "Epoch 5/15: 100%|██████████| 438/438 [00:02<00:00, 215.39batch/s, loss=nan]\n",
      "Epoch 6/15: 100%|██████████| 438/438 [00:02<00:00, 212.08batch/s, loss=nan]\n",
      "Epoch 7/15: 100%|██████████| 438/438 [00:02<00:00, 218.54batch/s, loss=nan]\n",
      "Epoch 8/15: 100%|██████████| 438/438 [00:02<00:00, 213.15batch/s, loss=nan]\n",
      "Epoch 9/15: 100%|██████████| 438/438 [00:02<00:00, 209.69batch/s, loss=nan]\n",
      "Epoch 10/15: 100%|██████████| 438/438 [00:02<00:00, 203.79batch/s, loss=nan]\n",
      "Epoch 11/15: 100%|██████████| 438/438 [00:02<00:00, 210.94batch/s, loss=nan]\n",
      "Epoch 12/15: 100%|██████████| 438/438 [00:02<00:00, 207.80batch/s, loss=nan]\n",
      "Epoch 13/15: 100%|██████████| 438/438 [00:02<00:00, 209.44batch/s, loss=nan]\n",
      "Epoch 14/15: 100%|██████████| 438/438 [00:02<00:00, 207.39batch/s, loss=nan]\n",
      "Epoch 15/15: 100%|██████████| 438/438 [00:02<00:00, 206.71batch/s, loss=nan]"
     ]
    },
    {
     "name": "stdout",
     "output_type": "stream",
     "text": [
      "====================================Finish training====================================\n",
      "\n"
     ]
    },
    {
     "name": "stderr",
     "output_type": "stream",
     "text": [
      "\n"
     ]
    }
   ],
   "source": [
    "# 训练模型\n",
    "optimizer = torch.optim.Adam(MyAE.parameters(), lr=0.001, weight_decay=0.001)\n",
    "trainer(\n",
    "    MyAE,\n",
    "    NUM_EPOCHS=15,\n",
    "    OPTIMIZER=optimizer,\n",
    "    TRAIN_LOADER=train_loader,\n",
    "    LOSS_TYPE=nn.MSELoss(),\n",
    "    DEVICE=0,\n",
    ")"
   ]
  }
 ],
 "metadata": {
  "kernelspec": {
   "display_name": "d2l",
   "language": "python",
   "name": "python3"
  },
  "language_info": {
   "codemirror_mode": {
    "name": "ipython",
    "version": 3
   },
   "file_extension": ".py",
   "mimetype": "text/x-python",
   "name": "python",
   "nbconvert_exporter": "python",
   "pygments_lexer": "ipython3",
   "version": "3.7.5"
  }
 },
 "nbformat": 4,
 "nbformat_minor": 2
}
