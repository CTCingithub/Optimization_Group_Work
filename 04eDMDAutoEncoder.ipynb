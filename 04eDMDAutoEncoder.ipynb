{
 "cells": [
  {
   "cell_type": "markdown",
   "metadata": {},
   "source": [
    "# 使用自编码器提取特征\n"
   ]
  },
  {
   "cell_type": "markdown",
   "metadata": {},
   "source": [
    "## 1. 读取筛选后的数据\n"
   ]
  },
  {
   "cell_type": "code",
   "execution_count": 1,
   "metadata": {},
   "outputs": [
    {
     "data": {
      "text/plain": [
       "tensor([[ 0.0000e+00,  1.5000e+00, -3.6000e+00,  6.9000e+01,  3.9000e+01,\n",
       "          9.9810e+01],\n",
       "        [ 1.0000e+00,  1.5000e+00, -3.9000e+00,  6.7000e+01,  3.5000e+01,\n",
       "          1.0001e+02],\n",
       "        [ 2.0000e+00,  1.0000e+00, -4.3000e+00,  6.8000e+01,  3.2000e+01,\n",
       "          1.0014e+02],\n",
       "        ...,\n",
       "        [ 1.7517e+04,  4.0000e+00,  3.6000e+00,  9.7000e+01,  3.2000e+01,\n",
       "          9.9150e+01],\n",
       "        [ 1.7518e+04,  4.0000e+00,  3.6000e+00,  9.7000e+01,  3.0000e+01,\n",
       "          9.8800e+01],\n",
       "        [ 1.7519e+04,  4.0000e+00,  3.7000e+00,  9.8000e+01,  1.5000e+01,\n",
       "          9.8570e+01]])"
      ]
     },
     "execution_count": 1,
     "metadata": {},
     "output_type": "execute_result"
    }
   ],
   "source": [
    "import pandas as pd\n",
    "import torch\n",
    "\n",
    "# 选取需要的列\n",
    "COLUMN_INDEX = [\n",
    "    \"Index\",\n",
    "    \"Temp (°C)\",\n",
    "    \"Dew Point Temp (°C)\",\n",
    "    \"Rel Hum (%)\",\n",
    "    \"Wind Spd (km/h)\",\n",
    "    \"Stn Press (kPa)\",\n",
    "]\n",
    "data = pd.read_csv(\"Data/DataSet.csv\")[COLUMN_INDEX].to_numpy()\n",
    "\n",
    "data_tensor = torch.tensor(data, dtype=torch.float32)\n",
    "data_tensor"
   ]
  },
  {
   "cell_type": "markdown",
   "metadata": {},
   "source": [
    "## 2. 模型训练\n"
   ]
  },
  {
   "cell_type": "markdown",
   "metadata": {},
   "source": [
    "划分训练集和测试集\n"
   ]
  },
  {
   "cell_type": "code",
   "execution_count": 2,
   "metadata": {},
   "outputs": [],
   "source": [
    "from Network import *\n",
    "\n",
    "# 设置随机种子以确保结果可重复\n",
    "torch.manual_seed(42)\n",
    "\n",
    "train_loader,test_loader,train_index,test_index=TimeSeriesDataSplit2Loaders(\n",
    "    data_tensor,\n",
    "    BATCH_SIZE=16,\n",
    "    RATIO=0.5,SHUFFLE=True)\n"
   ]
  },
  {
   "cell_type": "markdown",
   "metadata": {},
   "source": [
    "定义eDMD损失函数\n",
    "\n",
    "$$\n",
    "\\mathbf{Loss}_{\\text{eDMD}} = n_{1} \\cdot \\mathbf{Loss}_{\\text{MSE}} + n_{2} \\cdot \\mathbf{Loss}_{\\text{Measurement Space Linearity}}.\n",
    "$$\n"
   ]
  },
  {
   "cell_type": "markdown",
   "metadata": {},
   "source": [
    "定义Auto Encoder结构\n"
   ]
  },
  {
   "cell_type": "code",
   "execution_count": 3,
   "metadata": {},
   "outputs": [
    {
     "data": {
      "text/plain": [
       "==========================================================================================\n",
       "Layer (type:depth-idx)                   Output Shape              Param #\n",
       "==========================================================================================\n",
       "MyAutoencoder                            [1, 5]                    --\n",
       "├─Sequential: 1-1                        [1, 3]                    --\n",
       "│    └─Linear: 2-1                       [1, 6]                    36\n",
       "│    └─ReLU: 2-2                         [1, 6]                    --\n",
       "│    └─BatchNorm1d: 2-3                  [1, 6]                    12\n",
       "│    └─Dropout: 2-4                      [1, 6]                    --\n",
       "│    └─Linear: 2-5                       [1, 3]                    21\n",
       "│    └─ReLU: 2-6                         [1, 3]                    --\n",
       "│    └─BatchNorm1d: 2-7                  [1, 3]                    6\n",
       "│    └─Dropout: 2-8                      [1, 3]                    --\n",
       "├─Sequential: 1-2                        [1, 5]                    --\n",
       "│    └─Linear: 2-9                       [1, 6]                    24\n",
       "│    └─ReLU: 2-10                        [1, 6]                    --\n",
       "│    └─BatchNorm1d: 2-11                 [1, 6]                    12\n",
       "│    └─Dropout: 2-12                     [1, 6]                    --\n",
       "│    └─Linear: 2-13                      [1, 5]                    35\n",
       "==========================================================================================\n",
       "Total params: 146\n",
       "Trainable params: 146\n",
       "Non-trainable params: 0\n",
       "Total mult-adds (Units.MEGABYTES): 0.00\n",
       "==========================================================================================\n",
       "Input size (MB): 0.00\n",
       "Forward/backward pass size (MB): 0.00\n",
       "Params size (MB): 0.00\n",
       "Estimated Total Size (MB): 0.00\n",
       "=========================================================================================="
      ]
     },
     "execution_count": 3,
     "metadata": {},
     "output_type": "execute_result"
    }
   ],
   "source": [
    "from torchinfo import summary\n",
    "\n",
    "MyAE = MyAutoencoder(input_size=5, hidden_size_1=6,\n",
    "                     hidden_size_2=3, dropout_prob=0.05)\n",
    "INIT_WEIGHTS_XAVIER(MyAE)\n",
    "summary(MyAE, (1, 5))"
   ]
  },
  {
   "cell_type": "markdown",
   "metadata": {},
   "source": [
    "训练模型\n"
   ]
  },
  {
   "cell_type": "code",
   "execution_count": 4,
   "metadata": {},
   "outputs": [
    {
     "name": "stdout",
     "output_type": "stream",
     "text": [
      "PyTorch Version: 2.1.0.dev20230621+cu117\n",
      "Training on cuda:0\n",
      "====================================Start training====================================\n"
     ]
    },
    {
     "name": "stderr",
     "output_type": "stream",
     "text": [
      "Epoch 1/2: 100%|██████████| 548/548 [00:01<00:00, 301.14batch/s, loss=83.5]   \n",
      "Epoch 2/2: 100%|██████████| 548/548 [00:01<00:00, 328.05batch/s, loss=66.1]\n"
     ]
    },
    {
     "name": "stdout",
     "output_type": "stream",
     "text": [
      "====================================Finish training====================================\n",
      "\n"
     ]
    },
    {
     "data": {
      "text/plain": [
       "([tensor(557.1006), tensor(37.5786)], [tensor(24.2231), tensor(15.0917)])"
      ]
     },
     "execution_count": 4,
     "metadata": {},
     "output_type": "execute_result"
    }
   ],
   "source": [
    "optimizer = torch.optim.Adam(MyAE.parameters(), lr=0.01, weight_decay=1E-5)\n",
    "TRAIN_WITH_PROGRESS_BAR_eDMD(\n",
    "    MyAE,\n",
    "    NUM_EPOCHS=2,\n",
    "    OPTIMIZER=optimizer,\n",
    "    TRAIN_LOADER=train_loader,\n",
    "    TEST_LOADER=test_loader,\n",
    "    TORCH_LOSS_TYPE=nn.MSELoss(),\n",
    "    LOSS_WEIGHT=[0.5,0.5],\n",
    "    DEVICE=0,\n",
    ")"
   ]
  }
 ],
 "metadata": {
  "kernelspec": {
   "display_name": "d2l",
   "language": "python",
   "name": "python3"
  },
  "language_info": {
   "codemirror_mode": {
    "name": "ipython",
    "version": 3
   },
   "file_extension": ".py",
   "mimetype": "text/x-python",
   "name": "python",
   "nbconvert_exporter": "python",
   "pygments_lexer": "ipython3",
   "version": "3.11.4"
  }
 },
 "nbformat": 4,
 "nbformat_minor": 2
}
